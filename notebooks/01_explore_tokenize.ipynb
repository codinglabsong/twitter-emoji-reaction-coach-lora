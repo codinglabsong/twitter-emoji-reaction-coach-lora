{
 "cells": [
  {
   "cell_type": "markdown",
   "metadata": {},
   "source": [
    "# Data Exploration"
   ]
  },
  {
   "cell_type": "markdown",
   "metadata": {},
   "source": [
    "## Setup & Imports"
   ]
  },
  {
   "cell_type": "code",
   "execution_count": 1,
   "metadata": {},
   "outputs": [
    {
     "name": "stderr",
     "output_type": "stream",
     "text": [
      "/home/jsooh/ssd/t5/envs/conda_envs/twitter-emoji/lib/python3.10/site-packages/tqdm/auto.py:21: TqdmWarning: IProgress not found. Please update jupyter and ipywidgets. See https://ipywidgets.readthedocs.io/en/stable/user_install.html\n",
      "  from .autonotebook import tqdm as notebook_tqdm\n"
     ]
    }
   ],
   "source": [
    "import os\n",
    "from dotenv import load_dotenv\n",
    "from huggingface_hub import login\n",
    "from twitter_emoji_reaction_lora.data import load_emoji_dataset, tokenize_and_format"
   ]
  },
  {
   "cell_type": "code",
   "execution_count": 2,
   "metadata": {
    "execution": {
     "iopub.execute_input": "2025-06-23T15:27:37.288028Z",
     "iopub.status.busy": "2025-06-23T15:27:37.287800Z",
     "iopub.status.idle": "2025-06-23T15:27:38.096942Z",
     "shell.execute_reply": "2025-06-23T15:27:38.096214Z",
     "shell.execute_reply.started": "2025-06-23T15:27:37.288004Z"
    },
    "trusted": true
   },
   "outputs": [],
   "source": [
    "load_dotenv()\n",
    "\n",
    "login(token=os.getenv(\"HUGGINGFACE_TOKEN\"))"
   ]
  },
  {
   "cell_type": "markdown",
   "metadata": {},
   "source": [
    "## Download and inspect the dataset"
   ]
  },
  {
   "cell_type": "code",
   "execution_count": 3,
   "metadata": {
    "execution": {
     "iopub.execute_input": "2025-06-23T15:27:38.097959Z",
     "iopub.status.busy": "2025-06-23T15:27:38.097702Z",
     "iopub.status.idle": "2025-06-23T15:27:42.379535Z",
     "shell.execute_reply": "2025-06-23T15:27:42.379054Z",
     "shell.execute_reply.started": "2025-06-23T15:27:38.097913Z"
    },
    "scrolled": true,
    "trusted": true
   },
   "outputs": [],
   "source": [
    "ds = load_emoji_dataset()"
   ]
  },
  {
   "cell_type": "code",
   "execution_count": 4,
   "metadata": {
    "execution": {
     "iopub.execute_input": "2025-06-23T15:27:42.380596Z",
     "iopub.status.busy": "2025-06-23T15:27:42.380219Z",
     "iopub.status.idle": "2025-06-23T15:27:42.385822Z",
     "shell.execute_reply": "2025-06-23T15:27:42.384998Z",
     "shell.execute_reply.started": "2025-06-23T15:27:42.380577Z"
    },
    "trusted": true
   },
   "outputs": [
    {
     "data": {
      "text/plain": [
       "DatasetDict({\n",
       "    train: Dataset({\n",
       "        features: ['text', 'label'],\n",
       "        num_rows: 45000\n",
       "    })\n",
       "    test: Dataset({\n",
       "        features: ['text', 'label'],\n",
       "        num_rows: 50000\n",
       "    })\n",
       "    validation: Dataset({\n",
       "        features: ['text', 'label'],\n",
       "        num_rows: 5000\n",
       "    })\n",
       "})"
      ]
     },
     "execution_count": 4,
     "metadata": {},
     "output_type": "execute_result"
    }
   ],
   "source": [
    "ds"
   ]
  },
  {
   "cell_type": "code",
   "execution_count": 5,
   "metadata": {
    "execution": {
     "iopub.execute_input": "2025-06-23T15:27:42.387058Z",
     "iopub.status.busy": "2025-06-23T15:27:42.386678Z",
     "iopub.status.idle": "2025-06-23T15:27:42.403730Z",
     "shell.execute_reply": "2025-06-23T15:27:42.403085Z",
     "shell.execute_reply.started": "2025-06-23T15:27:42.387029Z"
    },
    "trusted": true
   },
   "outputs": [
    {
     "data": {
      "text/plain": [
       "Dataset({\n",
       "    features: ['text', 'label'],\n",
       "    num_rows: 45000\n",
       "})"
      ]
     },
     "execution_count": 5,
     "metadata": {},
     "output_type": "execute_result"
    }
   ],
   "source": [
    "ds[\"train\"]"
   ]
  },
  {
   "cell_type": "markdown",
   "metadata": {},
   "source": [
    "## Tokenise and Reformat the Label Column"
   ]
  },
  {
   "cell_type": "code",
   "execution_count": 6,
   "metadata": {
    "execution": {
     "iopub.execute_input": "2025-06-23T15:27:42.415213Z",
     "iopub.status.busy": "2025-06-23T15:27:42.414974Z",
     "iopub.status.idle": "2025-06-23T15:28:01.643411Z",
     "shell.execute_reply": "2025-06-23T15:28:01.642812Z",
     "shell.execute_reply.started": "2025-06-23T15:27:42.415190Z"
    },
    "scrolled": true,
    "trusted": true
   },
   "outputs": [
    {
     "name": "stderr",
     "output_type": "stream",
     "text": [
      "Map: 100%|██████████| 45000/45000 [00:03<00:00, 14750.75 examples/s]\n",
      "Map: 100%|██████████| 50000/50000 [00:05<00:00, 9843.64 examples/s] \n",
      "Map: 100%|██████████| 5000/5000 [00:00<00:00, 7981.55 examples/s] \n"
     ]
    }
   ],
   "source": [
    "ds_tok, tok = tokenize_and_format(ds)"
   ]
  },
  {
   "cell_type": "code",
   "execution_count": 7,
   "metadata": {
    "execution": {
     "iopub.execute_input": "2025-06-23T15:28:01.645524Z",
     "iopub.status.busy": "2025-06-23T15:28:01.645261Z",
     "iopub.status.idle": "2025-06-23T15:28:01.650419Z",
     "shell.execute_reply": "2025-06-23T15:28:01.649623Z",
     "shell.execute_reply.started": "2025-06-23T15:28:01.645506Z"
    },
    "trusted": true
   },
   "outputs": [
    {
     "data": {
      "text/plain": [
       "DatasetDict({\n",
       "    train: Dataset({\n",
       "        features: ['text', 'labels', 'input_ids', 'attention_mask'],\n",
       "        num_rows: 45000\n",
       "    })\n",
       "    test: Dataset({\n",
       "        features: ['text', 'labels', 'input_ids', 'attention_mask'],\n",
       "        num_rows: 50000\n",
       "    })\n",
       "    validation: Dataset({\n",
       "        features: ['text', 'labels', 'input_ids', 'attention_mask'],\n",
       "        num_rows: 5000\n",
       "    })\n",
       "})"
      ]
     },
     "execution_count": 7,
     "metadata": {},
     "output_type": "execute_result"
    }
   ],
   "source": [
    "ds_tok"
   ]
  }
 ],
 "metadata": {
  "kaggle": {
   "accelerator": "none",
   "dataSources": [],
   "isGpuEnabled": false,
   "isInternetEnabled": true,
   "language": "python",
   "sourceType": "notebook"
  },
  "kernelspec": {
   "display_name": "twitter-emoji",
   "language": "python",
   "name": "python3"
  },
  "language_info": {
   "codemirror_mode": {
    "name": "ipython",
    "version": 3
   },
   "file_extension": ".py",
   "mimetype": "text/x-python",
   "name": "python",
   "nbconvert_exporter": "python",
   "pygments_lexer": "ipython3",
   "version": "3.10.18"
  }
 },
 "nbformat": 4,
 "nbformat_minor": 4
}
