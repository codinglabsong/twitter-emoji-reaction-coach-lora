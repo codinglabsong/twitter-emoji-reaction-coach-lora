{
 "cells": [
  {
   "cell_type": "markdown",
   "metadata": {},
   "source": [
    "## Preparing Working Environment"
   ]
  },
  {
   "cell_type": "code",
   "execution_count": 1,
   "metadata": {
    "_cell_guid": "b1076dfc-b9ad-4769-8c92-a6c4dae69d19",
    "_uuid": "8f2839f25d086af736a60e9eeb907d3b93b6e0e5",
    "execution": {
     "iopub.execute_input": "2025-06-23T15:26:19.286858Z",
     "iopub.status.busy": "2025-06-23T15:26:19.286383Z",
     "iopub.status.idle": "2025-06-23T15:27:37.281160Z",
     "shell.execute_reply": "2025-06-23T15:27:37.280430Z",
     "shell.execute_reply.started": "2025-06-23T15:26:19.286812Z"
    },
    "scrolled": true,
    "trusted": true
   },
   "outputs": [],
   "source": [
    "! pip install transformers datasets peft evaluate -q"
   ]
  },
  {
   "cell_type": "code",
   "execution_count": 23,
   "metadata": {},
   "outputs": [
    {
     "name": "stderr",
     "output_type": "stream",
     "text": [
      "huggingface/tokenizers: The current process just got forked, after parallelism has already been used. Disabling parallelism to avoid deadlocks...\n",
      "To disable this warning, you can either:\n",
      "\t- Avoid using `tokenizers` before the fork if possible\n",
      "\t- Explicitly set the environment variable TOKENIZERS_PARALLELISM=(true | false)\n"
     ]
    }
   ],
   "source": [
    "! pip install python-dotenv numpy -q"
   ]
  },
  {
   "cell_type": "code",
   "execution_count": 3,
   "metadata": {},
   "outputs": [
    {
     "data": {
      "text/plain": [
       "True"
      ]
     },
     "execution_count": 3,
     "metadata": {},
     "output_type": "execute_result"
    }
   ],
   "source": [
    "from dotenv import load_dotenv\n",
    "load_dotenv()"
   ]
  },
  {
   "cell_type": "code",
   "execution_count": 4,
   "metadata": {
    "execution": {
     "iopub.execute_input": "2025-06-23T15:27:37.288028Z",
     "iopub.status.busy": "2025-06-23T15:27:37.287800Z",
     "iopub.status.idle": "2025-06-23T15:27:38.096942Z",
     "shell.execute_reply": "2025-06-23T15:27:38.096214Z",
     "shell.execute_reply.started": "2025-06-23T15:27:37.288004Z"
    },
    "trusted": true
   },
   "outputs": [],
   "source": [
    "import os\n",
    "from huggingface_hub import login\n",
    "\n",
    "login(token=os.getenv(\"HUGGINGFACE_TOKEN\"))\n",
    "\n",
    "os.environ[\"WANDB_API_KEY\"] = os.getenv(\"WANDB_API_KEY\")\n",
    "os.environ[\"WANDB_PROJECT\"] = \"Emoji-reaction-coach-with-lora\"\n",
    "os.environ[\"WANDB_NOTES\"] = \"Fine tune model with low rank adaptation for an emoji reaction coach\"\n",
    "os.environ[\"CUDA_VISIBLE_DEVICES\"] = \"0\" # Use only one GPU"
   ]
  },
  {
   "cell_type": "markdown",
   "metadata": {},
   "source": [
    "## Download and inspect the dataset"
   ]
  },
  {
   "cell_type": "code",
   "execution_count": 17,
   "metadata": {
    "execution": {
     "iopub.execute_input": "2025-06-23T15:27:38.097959Z",
     "iopub.status.busy": "2025-06-23T15:27:38.097702Z",
     "iopub.status.idle": "2025-06-23T15:27:42.379535Z",
     "shell.execute_reply": "2025-06-23T15:27:42.379054Z",
     "shell.execute_reply.started": "2025-06-23T15:27:38.097913Z"
    },
    "scrolled": true,
    "trusted": true
   },
   "outputs": [],
   "source": [
    "from src.data import load_emoji_dataset\n",
    "\n",
    "ds = load_emoji_dataset()"
   ]
  },
  {
   "cell_type": "code",
   "execution_count": 18,
   "metadata": {
    "execution": {
     "iopub.execute_input": "2025-06-23T15:27:42.380596Z",
     "iopub.status.busy": "2025-06-23T15:27:42.380219Z",
     "iopub.status.idle": "2025-06-23T15:27:42.385822Z",
     "shell.execute_reply": "2025-06-23T15:27:42.384998Z",
     "shell.execute_reply.started": "2025-06-23T15:27:42.380577Z"
    },
    "trusted": true
   },
   "outputs": [
    {
     "data": {
      "text/plain": [
       "DatasetDict({\n",
       "    train: Dataset({\n",
       "        features: ['text', 'label'],\n",
       "        num_rows: 45000\n",
       "    })\n",
       "    test: Dataset({\n",
       "        features: ['text', 'label'],\n",
       "        num_rows: 50000\n",
       "    })\n",
       "    validation: Dataset({\n",
       "        features: ['text', 'label'],\n",
       "        num_rows: 5000\n",
       "    })\n",
       "})"
      ]
     },
     "execution_count": 18,
     "metadata": {},
     "output_type": "execute_result"
    }
   ],
   "source": [
    "ds"
   ]
  },
  {
   "cell_type": "code",
   "execution_count": 19,
   "metadata": {
    "execution": {
     "iopub.execute_input": "2025-06-23T15:27:42.387058Z",
     "iopub.status.busy": "2025-06-23T15:27:42.386678Z",
     "iopub.status.idle": "2025-06-23T15:27:42.403730Z",
     "shell.execute_reply": "2025-06-23T15:27:42.403085Z",
     "shell.execute_reply.started": "2025-06-23T15:27:42.387029Z"
    },
    "trusted": true
   },
   "outputs": [
    {
     "data": {
      "text/plain": [
       "Dataset({\n",
       "    features: ['text', 'label'],\n",
       "    num_rows: 45000\n",
       "})"
      ]
     },
     "execution_count": 19,
     "metadata": {},
     "output_type": "execute_result"
    }
   ],
   "source": [
    "ds[\"train\"]"
   ]
  },
  {
   "cell_type": "markdown",
   "metadata": {},
   "source": [
    "## Tokenise and Rename the Label Column"
   ]
  },
  {
   "cell_type": "code",
   "execution_count": 21,
   "metadata": {
    "execution": {
     "iopub.execute_input": "2025-06-23T15:27:42.415213Z",
     "iopub.status.busy": "2025-06-23T15:27:42.414974Z",
     "iopub.status.idle": "2025-06-23T15:28:01.643411Z",
     "shell.execute_reply": "2025-06-23T15:28:01.642812Z",
     "shell.execute_reply.started": "2025-06-23T15:27:42.415190Z"
    },
    "scrolled": true,
    "trusted": true
   },
   "outputs": [
    {
     "name": "stderr",
     "output_type": "stream",
     "text": [
      "Map: 100%|██████████| 45000/45000 [00:07<00:00, 6022.16 examples/s]\n",
      "Map: 100%|██████████| 50000/50000 [00:06<00:00, 7145.92 examples/s]\n",
      "Map: 100%|██████████| 5000/5000 [00:00<00:00, 8115.74 examples/s]\n"
     ]
    }
   ],
   "source": [
    "from src.data import tokenize_and_format\n",
    "\n",
    "ds_tok, tok = tokenize_and_format(ds, checkpoint=\"FacebookAI/roberta-base\")"
   ]
  },
  {
   "cell_type": "code",
   "execution_count": 22,
   "metadata": {
    "execution": {
     "iopub.execute_input": "2025-06-23T15:28:01.645524Z",
     "iopub.status.busy": "2025-06-23T15:28:01.645261Z",
     "iopub.status.idle": "2025-06-23T15:28:01.650419Z",
     "shell.execute_reply": "2025-06-23T15:28:01.649623Z",
     "shell.execute_reply.started": "2025-06-23T15:28:01.645506Z"
    },
    "trusted": true
   },
   "outputs": [
    {
     "data": {
      "text/plain": [
       "DatasetDict({\n",
       "    train: Dataset({\n",
       "        features: ['text', 'labels', 'input_ids', 'attention_mask'],\n",
       "        num_rows: 45000\n",
       "    })\n",
       "    test: Dataset({\n",
       "        features: ['text', 'labels', 'input_ids', 'attention_mask'],\n",
       "        num_rows: 50000\n",
       "    })\n",
       "    validation: Dataset({\n",
       "        features: ['text', 'labels', 'input_ids', 'attention_mask'],\n",
       "        num_rows: 5000\n",
       "    })\n",
       "})"
      ]
     },
     "execution_count": 22,
     "metadata": {},
     "output_type": "execute_result"
    }
   ],
   "source": [
    "ds_tok"
   ]
  }
 ],
 "metadata": {
  "kaggle": {
   "accelerator": "none",
   "dataSources": [],
   "isGpuEnabled": false,
   "isInternetEnabled": true,
   "language": "python",
   "sourceType": "notebook"
  },
  "kernelspec": {
   "display_name": "twitter-emoji",
   "language": "python",
   "name": "python3"
  },
  "language_info": {
   "codemirror_mode": {
    "name": "ipython",
    "version": 3
   },
   "file_extension": ".py",
   "mimetype": "text/x-python",
   "name": "python",
   "nbconvert_exporter": "python",
   "pygments_lexer": "ipython3",
   "version": "3.10.18"
  }
 },
 "nbformat": 4,
 "nbformat_minor": 4
}
