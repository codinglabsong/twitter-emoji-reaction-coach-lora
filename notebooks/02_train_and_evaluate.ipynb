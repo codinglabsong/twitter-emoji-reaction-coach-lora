{
 "cells": [
  {
   "cell_type": "markdown",
   "metadata": {},
   "source": [
    "# Attach a LoRA adapter and train"
   ]
  },
  {
   "cell_type": "markdown",
   "metadata": {},
   "source": [
    "## Setup & Imports"
   ]
  },
  {
   "cell_type": "code",
   "execution_count": 2,
   "metadata": {},
   "outputs": [
    {
     "name": "stderr",
     "output_type": "stream",
     "text": [
      "/home/jsooh/ssd/t5/envs/conda_envs/twitter-emoji/lib/python3.10/site-packages/tqdm/auto.py:21: TqdmWarning: IProgress not found. Please update jupyter and ipywidgets. See https://ipywidgets.readthedocs.io/en/stable/user_install.html\n",
      "  from .autonotebook import tqdm as notebook_tqdm\n"
     ]
    }
   ],
   "source": [
    "from dotenv import load_dotenv\n",
    "from huggingface_hub import login\n",
    "from transformers import TrainingArguments, Trainer, DataCollatorWithPadding\n",
    "from twitter_emoji_reaction_lora.data import load_emoji_dataset, tokenize_and_format\n",
    "from twitter_emoji_reaction_lora.model import build_base_model, build_peft_model\n",
    "from twitter_emoji_reaction_lora.train import get_weighted_trainer\n",
    "from twitter_emoji_reaction_lora.utils import print_trainable_parameters, compute_metrics\n",
    "from uuid import uuid4\n",
    "import os\n",
    "import torch"
   ]
  },
  {
   "cell_type": "code",
   "execution_count": 3,
   "metadata": {},
   "outputs": [],
   "source": [
    "load_dotenv()\n",
    "\n",
    "login(token=os.getenv(\"HUGGINGFACE_TOKEN\"))\n",
    "\n",
    "os.environ[\"WANDB_API_KEY\"] = os.getenv(\"WANDB_API_KEY\")\n",
    "os.environ[\"WANDB_PROJECT\"] = \"Emoji-reaction-coach-with-lora\"\n",
    "os.environ[\"WANDB_NOTES\"] = \"Fine tune model with low rank adaptation for an emoji reaction coach\"\n",
    "os.environ[\"CUDA_VISIBLE_DEVICES\"] = \"0\" # Use only one GPU"
   ]
  },
  {
   "cell_type": "markdown",
   "metadata": {},
   "source": [
    "## Load & Tokenize  \n",
    "We pull in the same `load_emoji_dataset` and `tokenize_and_format` functions we used in the 01_explore_tokenize notebook.\n"
   ]
  },
  {
   "cell_type": "code",
   "execution_count": 4,
   "metadata": {},
   "outputs": [],
   "source": [
    "# load raw splits\n",
    "ds = load_emoji_dataset()\n",
    "\n",
    "# apply our shared tokenization routine\n",
    "ds_tok, tok = tokenize_and_format(ds, max_length=128)\n"
   ]
  },
  {
   "cell_type": "markdown",
   "metadata": {},
   "source": [
    "## 3. Model Initialization & LoRA  \n",
    "Here we use `build_base_model` to get a `RobertaForSequenceClassification`, then wrap it in LoRA via `build_peft_model`.\n"
   ]
  },
  {
   "cell_type": "code",
   "execution_count": 5,
   "metadata": {
    "execution": {
     "iopub.execute_input": "2025-06-23T18:19:38.504891Z",
     "iopub.status.busy": "2025-06-23T18:19:38.504363Z",
     "iopub.status.idle": "2025-06-23T18:19:38.683760Z",
     "shell.execute_reply": "2025-06-23T18:19:38.682842Z",
     "shell.execute_reply.started": "2025-06-23T18:19:38.504869Z"
    },
    "scrolled": true,
    "trusted": true
   },
   "outputs": [
    {
     "name": "stderr",
     "output_type": "stream",
     "text": [
      "Some weights of RobertaForSequenceClassification were not initialized from the model checkpoint at FacebookAI/roberta-base and are newly initialized: ['classifier.dense.bias', 'classifier.dense.weight', 'classifier.out_proj.bias', 'classifier.out_proj.weight']\n",
      "You should probably TRAIN this model on a down-stream task to be able to use it for predictions and inference.\n"
     ]
    },
    {
     "name": "stdout",
     "output_type": "stream",
     "text": [
      "trainable params: 124661012 || all params: 124661012 || trainable%: 100.00\n"
     ]
    }
   ],
   "source": [
    "model = build_base_model()\n",
    "print_trainable_parameters(model)"
   ]
  },
  {
   "cell_type": "code",
   "execution_count": 6,
   "metadata": {
    "execution": {
     "iopub.execute_input": "2025-06-23T18:19:42.513320Z",
     "iopub.status.busy": "2025-06-23T18:19:42.512794Z",
     "iopub.status.idle": "2025-06-23T18:19:42.577490Z",
     "shell.execute_reply": "2025-06-23T18:19:42.576846Z",
     "shell.execute_reply.started": "2025-06-23T18:19:42.513296Z"
    },
    "trusted": true
   },
   "outputs": [
    {
     "name": "stdout",
     "output_type": "stream",
     "text": [
      "trainable params: 2375444 || all params: 127036456 || trainable%: 1.87\n"
     ]
    }
   ],
   "source": [
    "lora_model = build_peft_model(model)\n",
    "print_trainable_parameters(lora_model)"
   ]
  },
  {
   "cell_type": "markdown",
   "metadata": {},
   "source": [
    "## 4. Trainer Setup  \n",
    "Then we prepare the model for training!\n"
   ]
  },
  {
   "cell_type": "code",
   "execution_count": null,
   "metadata": {
    "execution": {
     "iopub.execute_input": "2025-06-23T18:20:13.186163Z",
     "iopub.status.busy": "2025-06-23T18:20:13.185429Z",
     "iopub.status.idle": "2025-06-23T18:20:13.219357Z",
     "shell.execute_reply": "2025-06-23T18:20:13.218851Z",
     "shell.execute_reply.started": "2025-06-23T18:20:13.186138Z"
    },
    "trusted": true
   },
   "outputs": [],
   "source": [
    "model_id = \"roberta-base-with-tweet-eval-emoji\"\n",
    "\n",
    "training_args = TrainingArguments(\n",
    "    output_dir=model_id,\n",
    "    eval_strategy=\"epoch\",\n",
    "    save_strategy=\"epoch\",\n",
    "    learning_rate=5e-4,\n",
    "    weight_decay=0.01,\n",
    "    lr_scheduler_type=\"linear\",\n",
    "    warmup_ratio=0.05,\n",
    "    num_train_epochs=4,\n",
    "    per_device_train_batch_size=128,\n",
    "    per_device_eval_batch_size=256,\n",
    "    max_grad_norm=0.5,\n",
    "    label_smoothing_factor=0.1,\n",
    "    save_total_limit=3,\n",
    "    logging_steps=30,\n",
    "    fp16=True,\n",
    "    push_to_hub=False,\n",
    "    report_to=\"wandb\",\n",
    "    run_name = f\"copmuter-emoji-{uuid4().hex[:8]}\",\n",
    "    label_names=[\"labels\"],\n",
    ")\n",
    "data_collator = DataCollatorWithPadding(tok, pad_to_multiple_of=8)"
   ]
  },
  {
   "cell_type": "code",
   "execution_count": null,
   "metadata": {
    "execution": {
     "iopub.execute_input": "2025-06-23T18:20:18.760619Z",
     "iopub.status.busy": "2025-06-23T18:20:18.760050Z",
     "iopub.status.idle": "2025-06-23T18:36:01.692624Z",
     "shell.execute_reply": "2025-06-23T18:36:01.691901Z",
     "shell.execute_reply.started": "2025-06-23T18:20:18.760596Z"
    },
    "scrolled": true,
    "trusted": true
   },
   "outputs": [
    {
     "data": {
      "text/html": [
       "Tracking run with wandb version 0.19.9"
      ],
      "text/plain": [
       "<IPython.core.display.HTML object>"
      ]
     },
     "metadata": {},
     "output_type": "display_data"
    },
    {
     "data": {
      "text/html": [
       "Run data is saved locally in <code>/kaggle/working/wandb/run-20250623_182019-av1emke4</code>"
      ],
      "text/plain": [
       "<IPython.core.display.HTML object>"
      ]
     },
     "metadata": {},
     "output_type": "display_data"
    },
    {
     "data": {
      "text/html": [
       "Syncing run <strong><a href='https://wandb.ai/codinglabsong-keio-jp/Emoji-reaction-coach-with-lora/runs/av1emke4' target=\"_blank\">emoji-be18a399</a></strong> to <a href='https://wandb.ai/codinglabsong-keio-jp/Emoji-reaction-coach-with-lora' target=\"_blank\">Weights & Biases</a> (<a href='https://wandb.me/developer-guide' target=\"_blank\">docs</a>)<br>"
      ],
      "text/plain": [
       "<IPython.core.display.HTML object>"
      ]
     },
     "metadata": {},
     "output_type": "display_data"
    },
    {
     "data": {
      "text/html": [
       " View project at <a href='https://wandb.ai/codinglabsong-keio-jp/Emoji-reaction-coach-with-lora' target=\"_blank\">https://wandb.ai/codinglabsong-keio-jp/Emoji-reaction-coach-with-lora</a>"
      ],
      "text/plain": [
       "<IPython.core.display.HTML object>"
      ]
     },
     "metadata": {},
     "output_type": "display_data"
    },
    {
     "data": {
      "text/html": [
       " View run at <a href='https://wandb.ai/codinglabsong-keio-jp/Emoji-reaction-coach-with-lora/runs/av1emke4' target=\"_blank\">https://wandb.ai/codinglabsong-keio-jp/Emoji-reaction-coach-with-lora/runs/av1emke4</a>"
      ],
      "text/plain": [
       "<IPython.core.display.HTML object>"
      ]
     },
     "metadata": {},
     "output_type": "display_data"
    },
    {
     "data": {
      "text/html": [
       "\n",
       "    <div>\n",
       "      \n",
       "      <progress value='1408' max='1408' style='width:300px; height:20px; vertical-align: middle;'></progress>\n",
       "      [1408/1408 15:35, Epoch 4/4]\n",
       "    </div>\n",
       "    <table border=\"1\" class=\"dataframe\">\n",
       "  <thead>\n",
       " <tr style=\"text-align: left;\">\n",
       "      <th>Epoch</th>\n",
       "      <th>Training Loss</th>\n",
       "      <th>Validation Loss</th>\n",
       "      <th>Accuracy</th>\n",
       "      <th>F1</th>\n",
       "      <th>Top3 Accuracy</th>\n",
       "    </tr>\n",
       "  </thead>\n",
       "  <tbody>\n",
       "    <tr>\n",
       "      <td>1</td>\n",
       "      <td>2.140100</td>\n",
       "      <td>2.417112</td>\n",
       "      <td>0.222400</td>\n",
       "      <td>0.220445</td>\n",
       "      <td>0.415200</td>\n",
       "    </tr>\n",
       "    <tr>\n",
       "      <td>2</td>\n",
       "      <td>2.115700</td>\n",
       "      <td>2.372503</td>\n",
       "      <td>0.241200</td>\n",
       "      <td>0.246300</td>\n",
       "      <td>0.437600</td>\n",
       "    </tr>\n",
       "    <tr>\n",
       "      <td>3</td>\n",
       "      <td>2.014300</td>\n",
       "      <td>2.351388</td>\n",
       "      <td>0.250800</td>\n",
       "      <td>0.255062</td>\n",
       "      <td>0.444800</td>\n",
       "    </tr>\n",
       "    <tr>\n",
       "      <td>4</td>\n",
       "      <td>1.934600</td>\n",
       "      <td>2.357327</td>\n",
       "      <td>0.259400</td>\n",
       "      <td>0.263203</td>\n",
       "      <td>0.450000</td>\n",
       "    </tr>\n",
       "  </tbody>\n",
       "</table><p>"
      ],
      "text/plain": [
       "<IPython.core.display.HTML object>"
      ]
     },
     "metadata": {},
     "output_type": "display_data"
    },
    {
     "data": {
      "text/html": [],
      "text/plain": [
       "<IPython.core.display.HTML object>"
      ]
     },
     "metadata": {},
     "output_type": "display_data"
    },
    {
     "data": {
      "text/html": [
       "<br>    <style><br>        .wandb-row {<br>            display: flex;<br>            flex-direction: row;<br>            flex-wrap: wrap;<br>            justify-content: flex-start;<br>            width: 100%;<br>        }<br>        .wandb-col {<br>            display: flex;<br>            flex-direction: column;<br>            flex-basis: 100%;<br>            flex: 1;<br>            padding: 10px;<br>        }<br>    </style><br><div class=\"wandb-row\"><div class=\"wandb-col\"><h3>Run history:</h3><br/><table class=\"wandb\"><tr><td>eval/accuracy</td><td>▁▅▆█</td></tr><tr><td>eval/f1</td><td>▁▅▇█</td></tr><tr><td>eval/loss</td><td>█▃▁▂</td></tr><tr><td>eval/runtime</td><td>▃█▅▁</td></tr><tr><td>eval/samples_per_second</td><td>▆▁▄█</td></tr><tr><td>eval/steps_per_second</td><td>▆▁▄█</td></tr><tr><td>eval/top3_accuracy</td><td>▁▆▇█</td></tr><tr><td>train/epoch</td><td>▁▁▁▁▂▂▂▂▂▃▃▃▃▃▃▄▄▄▄▄▅▅▅▅▅▅▆▆▆▆▆▆▇▇▇▇▇███</td></tr><tr><td>train/global_step</td><td>▁▁▁▁▂▂▂▂▂▃▃▃▃▃▃▄▄▄▄▄▅▅▅▅▅▅▆▆▆▆▆▇▇▇▇▇████</td></tr><tr><td>train/grad_norm</td><td>▁▂▅▄▆▆▄▃▆▄▄▅▄▅▆█▆▅▅▆▄▆▆▅▇▆▆▆▇▅▇▆▆▇██▆█▆█</td></tr><tr><td>train/learning_rate</td><td>▄▇███▇▇▇▇▇▆▆▆▆▆▅▅▅▅▅▄▄▄▄▄▄▃▃▃▃▃▂▂▂▂▂▁▁▁▁</td></tr><tr><td>train/loss</td><td>██▅▄▃▃▃▃▃▃▃▂▂▂▂▂▂▂▂▂▂▂▂▂▂▂▂▁▂▂▂▁▁▁▁▁▂▁▁▁</td></tr></table><br/></div><div class=\"wandb-col\"><h3>Run summary:</h3><br/><table class=\"wandb\"><tr><td>eval/accuracy</td><td>0.2594</td></tr><tr><td>eval/f1</td><td>0.2632</td></tr><tr><td>eval/loss</td><td>2.35733</td></tr><tr><td>eval/runtime</td><td>10.4631</td></tr><tr><td>eval/samples_per_second</td><td>477.869</td></tr><tr><td>eval/steps_per_second</td><td>1.911</td></tr><tr><td>eval/top3_accuracy</td><td>0.45</td></tr><tr><td>total_flos</td><td>1.217029238784e+16</td></tr><tr><td>train/epoch</td><td>4</td></tr><tr><td>train/global_step</td><td>1408</td></tr><tr><td>train/grad_norm</td><td>1.95716</td></tr><tr><td>train/learning_rate</td><td>1e-05</td></tr><tr><td>train/loss</td><td>1.9346</td></tr><tr><td>train_loss</td><td>2.10373</td></tr><tr><td>train_runtime</td><td>941.7983</td></tr><tr><td>train_samples_per_second</td><td>191.124</td></tr><tr><td>train_steps_per_second</td><td>1.495</td></tr></table><br/></div></div>"
      ],
      "text/plain": [
       "<IPython.core.display.HTML object>"
      ]
     },
     "metadata": {},
     "output_type": "display_data"
    },
    {
     "data": {
      "text/html": [
       " View run <strong style=\"color:#cdcd00\">emoji-be18a399</strong> at: <a href='https://wandb.ai/codinglabsong-keio-jp/Emoji-reaction-coach-with-lora/runs/av1emke4' target=\"_blank\">https://wandb.ai/codinglabsong-keio-jp/Emoji-reaction-coach-with-lora/runs/av1emke4</a><br> View project at: <a href='https://wandb.ai/codinglabsong-keio-jp/Emoji-reaction-coach-with-lora' target=\"_blank\">https://wandb.ai/codinglabsong-keio-jp/Emoji-reaction-coach-with-lora</a><br>Synced 5 W&B file(s), 0 media file(s), 0 artifact file(s) and 0 other file(s)"
      ],
      "text/plain": [
       "<IPython.core.display.HTML object>"
      ]
     },
     "metadata": {},
     "output_type": "display_data"
    },
    {
     "data": {
      "text/html": [
       "Find logs at: <code>./wandb/run-20250623_182019-av1emke4/logs</code>"
      ],
      "text/plain": [
       "<IPython.core.display.HTML object>"
      ]
     },
     "metadata": {},
     "output_type": "display_data"
    }
   ],
   "source": [
    "trainer = get_weighted_trainer(\n",
    "    model=lora_model,\n",
    "    args=training_args,\n",
    "    ds_tok=ds_tok,\n",
    "    data_collator=data_collator,\n",
    "    compute_metrics=compute_metrics,\n",
    ")\n",
    "\n",
    "trainer.train()"
   ]
  },
  {
   "cell_type": "code",
   "execution_count": 139,
   "metadata": {
    "execution": {
     "iopub.execute_input": "2025-06-23T18:43:02.633325Z",
     "iopub.status.busy": "2025-06-23T18:43:02.633037Z",
     "iopub.status.idle": "2025-06-23T18:44:47.908935Z",
     "shell.execute_reply": "2025-06-23T18:44:47.908254Z",
     "shell.execute_reply.started": "2025-06-23T18:43:02.633306Z"
    },
    "trusted": true
   },
   "outputs": [
    {
     "name": "stdout",
     "output_type": "stream",
     "text": [
      "{'eval_loss': 1.9591624736785889, 'eval_accuracy': 0.4286, 'eval_f1': 0.33462876199193464, 'eval_top3_accuracy': 0.65028, 'eval_runtime': 104.9624, 'eval_samples_per_second': 476.361, 'eval_steps_per_second': 1.867, 'epoch': 4.0}\n"
     ]
    },
    {
     "data": {
      "text/plain": [
       "('roberta-base-with-tweet-eval-emoji-full/tokenizer_config.json',\n",
       " 'roberta-base-with-tweet-eval-emoji-full/special_tokens_map.json',\n",
       " 'roberta-base-with-tweet-eval-emoji-full/vocab.json',\n",
       " 'roberta-base-with-tweet-eval-emoji-full/merges.txt',\n",
       " 'roberta-base-with-tweet-eval-emoji-full/added_tokens.json',\n",
       " 'roberta-base-with-tweet-eval-emoji-full/tokenizer.json')"
      ]
     },
     "execution_count": 139,
     "metadata": {},
     "output_type": "execute_result"
    }
   ],
   "source": [
    "metrics = trainer.evaluate(ds_tok[\"test\"])\n",
    "print(metrics)\n",
    "\n",
    "# save weights and tokenizer\n",
    "lora_model.save_pretrained(model_id)\n",
    "tok.save_pretrained(model_id)"
   ]
  },
  {
   "cell_type": "code",
   "execution_count": null,
   "metadata": {
    "trusted": true
   },
   "outputs": [],
   "source": [
    "wandb.finish()"
   ]
  },
  {
   "cell_type": "code",
   "execution_count": 140,
   "metadata": {
    "execution": {
     "iopub.execute_input": "2025-06-23T18:49:52.890458Z",
     "iopub.status.busy": "2025-06-23T18:49:52.889851Z",
     "iopub.status.idle": "2025-06-23T18:49:53.095728Z",
     "shell.execute_reply": "2025-06-23T18:49:53.094707Z",
     "shell.execute_reply.started": "2025-06-23T18:49:52.890436Z"
    },
    "trusted": true
   },
   "outputs": [
    {
     "name": "stdout",
     "output_type": "stream",
     "text": [
      "total 14M\n",
      "-rw-r--r-- 1 root root  870 Jun 23 18:44 adapter_config.json\n",
      "-rw-r--r-- 1 root root 9.1M Jun 23 18:44 adapter_model.safetensors\n",
      "drwxr-xr-x 2 root root 4.0K Jun 23 18:32 checkpoint-1056\n",
      "drwxr-xr-x 2 root root 4.0K Jun 23 16:59 checkpoint-1408\n",
      "drwxr-xr-x 2 root root 4.0K Jun 23 17:03 checkpoint-2112\n",
      "-rw-r--r-- 1 root root 446K Jun 23 18:44 merges.txt\n",
      "-rw-r--r-- 1 root root 5.0K Jun 23 18:44 README.md\n",
      "-rw-r--r-- 1 root root  280 Jun 23 18:44 special_tokens_map.json\n",
      "-rw-r--r-- 1 root root 1.3K Jun 23 18:44 tokenizer_config.json\n",
      "-rw-r--r-- 1 root root 3.4M Jun 23 18:44 tokenizer.json\n",
      "-rw-r--r-- 1 root root 780K Jun 23 18:44 vocab.json\n"
     ]
    },
    {
     "name": "stderr",
     "output_type": "stream",
     "text": [
      "huggingface/tokenizers: The current process just got forked, after parallelism has already been used. Disabling parallelism to avoid deadlocks...\n",
      "To disable this warning, you can either:\n",
      "\t- Avoid using `tokenizers` before the fork if possible\n",
      "\t- Explicitly set the environment variable TOKENIZERS_PARALLELISM=(true | false)\n"
     ]
    }
   ],
   "source": [
    "!ls -lh {model_id}"
   ]
  }
 ],
 "metadata": {
  "kaggle": {
   "accelerator": "none",
   "dataSources": [],
   "isGpuEnabled": false,
   "isInternetEnabled": true,
   "language": "python",
   "sourceType": "notebook"
  },
  "kernelspec": {
   "display_name": "twitter-emoji",
   "language": "python",
   "name": "python3"
  },
  "language_info": {
   "codemirror_mode": {
    "name": "ipython",
    "version": 3
   },
   "file_extension": ".py",
   "mimetype": "text/x-python",
   "name": "python",
   "nbconvert_exporter": "python",
   "pygments_lexer": "ipython3",
   "version": "3.10.18"
  }
 },
 "nbformat": 4,
 "nbformat_minor": 4
}
