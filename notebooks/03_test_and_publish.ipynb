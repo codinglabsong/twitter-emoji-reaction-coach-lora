{
 "cells": [
  {
   "cell_type": "markdown",
   "metadata": {},
   "source": [
    "# Test the Model and Publish on Hugging Face"
   ]
  },
  {
   "cell_type": "markdown",
   "metadata": {},
   "source": [
    "## Setup & Imports"
   ]
  },
  {
   "cell_type": "code",
   "execution_count": 3,
   "metadata": {},
   "outputs": [],
   "source": [
    "from dotenv import load_dotenv\n",
    "from huggingface_hub import login\n",
    "from peft import PeftConfig, PeftModel\n",
    "from twitter_emoji_reaction_lora.model import build_inference_peft_model\n",
    "import os"
   ]
  },
  {
   "cell_type": "code",
   "execution_count": null,
   "metadata": {},
   "outputs": [],
   "source": [
    "load_dotenv()\n",
    "\n",
    "login(token=os.getenv(\"HUGGINGFACE_TOKEN\"))\n",
    "\n",
    "os.environ[\"WANDB_API_KEY\"] = os.getenv(\"WANDB_API_KEY\")\n",
    "os.environ[\"WANDB_PROJECT\"] = \"Emoji-reaction-coach-with-lora\"\n",
    "os.environ[\"WANDB_NOTES\"] = \"Fine tune model with low rank adaptation for an emoji reaction coach\"\n",
    "os.environ[\"CUDA_VISIBLE_DEVICES\"] = \"0\" # Use only one GPU"
   ]
  },
  {
   "cell_type": "code",
   "execution_count": null,
   "metadata": {
    "execution": {
     "iopub.execute_input": "2025-06-23T18:49:58.952218Z",
     "iopub.status.busy": "2025-06-23T18:49:58.951421Z",
     "iopub.status.idle": "2025-06-23T18:49:59.291149Z",
     "shell.execute_reply": "2025-06-23T18:49:59.290331Z",
     "shell.execute_reply.started": "2025-06-23T18:49:58.952186Z"
    },
    "trusted": true
   },
   "outputs": [
    {
     "name": "stderr",
     "output_type": "stream",
     "text": [
      "Some weights of RobertaForSequenceClassification were not initialized from the model checkpoint at FacebookAI/roberta-base and are newly initialized: ['classifier.dense.bias', 'classifier.dense.weight', 'classifier.out_proj.bias', 'classifier.out_proj.weight']\n",
      "You should probably TRAIN this model on a down-stream task to be able to use it for predictions and inference.\n"
     ]
    }
   ],
   "source": [
    "model = build_base_model()\n",
    "model_id = \"roberta-base-with-tweet-eval-emoji\" #path to model in local\n",
    "build_inference_peft_model(model, model_id)"
   ]
  },
  {
   "cell_type": "code",
   "execution_count": 142,
   "metadata": {
    "execution": {
     "iopub.execute_input": "2025-06-23T18:50:09.085189Z",
     "iopub.status.busy": "2025-06-23T18:50:09.084867Z",
     "iopub.status.idle": "2025-06-23T18:50:09.089707Z",
     "shell.execute_reply": "2025-06-23T18:50:09.089109Z",
     "shell.execute_reply.started": "2025-06-23T18:50:09.085168Z"
    },
    "trusted": true
   },
   "outputs": [],
   "source": [
    "id2label = {\n",
    "    0: \"❤\", 1: \"😍\", 2: \"😂\", 3: \"💕\", 4: \"🔥\",\n",
    "    5: \"😊\", 6: \"😎\", 7: \"✨\", 8: \"💙\", 9: \"😘\",\n",
    "    10: \"📷\", 11: \"🇺🇸\", 12: \"☀\", 13: \"💜\", 14: \"😉\",\n",
    "    15: \"💯\", 16: \"😁\", 17: \"🎄\", 18: \"📸\", 19: \"😜\"\n",
    "}"
   ]
  },
  {
   "cell_type": "code",
   "execution_count": 152,
   "metadata": {
    "execution": {
     "iopub.execute_input": "2025-06-23T18:51:57.429023Z",
     "iopub.status.busy": "2025-06-23T18:51:57.428491Z",
     "iopub.status.idle": "2025-06-23T18:51:57.453789Z",
     "shell.execute_reply": "2025-06-23T18:51:57.453095Z",
     "shell.execute_reply.started": "2025-06-23T18:51:57.428999Z"
    },
    "trusted": true
   },
   "outputs": [
    {
     "name": "stderr",
     "output_type": "stream",
     "text": [
      "Device set to use cuda:0\n"
     ]
    },
    {
     "name": "stdout",
     "output_type": "stream",
     "text": [
      "☀ 💙 😎\n"
     ]
    }
   ],
   "source": [
    "from transformers import pipeline\n",
    "\n",
    "pipe = pipeline(\n",
    "    task=\"text-classification\",\n",
    "    model=model,\n",
    "    tokenizer=tok,\n",
    "    return_all_scores=True,          # return all 20 logits\n",
    "    function_to_apply=\"softmax\"      # turn logits -> probabilities\n",
    ")\n",
    "\n",
    "def emojify(text, k=3):\n",
    "    probs = pipe(text)[0]\n",
    "    top = sorted(probs, key=lambda x: x[\"score\"], reverse=True)[:k]\n",
    "    return \" \".join(id2label[int(d[\"label\"].split(\"_\")[-1])] for d in top)\n",
    "\n",
    "\n",
    "print(emojify(\"Sunny day\"))"
   ]
  },
  {
   "cell_type": "code",
   "execution_count": 153,
   "metadata": {
    "execution": {
     "iopub.execute_input": "2025-06-23T19:17:03.119369Z",
     "iopub.status.busy": "2025-06-23T19:17:03.118799Z",
     "iopub.status.idle": "2025-06-23T19:17:06.647577Z",
     "shell.execute_reply": "2025-06-23T19:17:06.646984Z",
     "shell.execute_reply.started": "2025-06-23T19:17:03.119343Z"
    },
    "trusted": true
   },
   "outputs": [
    {
     "data": {
      "application/vnd.jupyter.widget-view+json": {
       "model_id": "7f0f8f19e5404c5f81088d2b3b130335",
       "version_major": 2,
       "version_minor": 0
      },
      "text/plain": [
       "training_args.bin:   0%|          | 0.00/5.37k [00:00<?, ?B/s]"
      ]
     },
     "metadata": {},
     "output_type": "display_data"
    },
    {
     "data": {
      "application/vnd.jupyter.widget-view+json": {
       "model_id": "0613fb736351458f867c54480ba208fe",
       "version_major": 2,
       "version_minor": 0
      },
      "text/plain": [
       "Upload 2 LFS files:   0%|          | 0/2 [00:00<?, ?it/s]"
      ]
     },
     "metadata": {},
     "output_type": "display_data"
    },
    {
     "data": {
      "application/vnd.jupyter.widget-view+json": {
       "model_id": "0ab6f2535b48433ba0898b7ee0a4fa36",
       "version_major": 2,
       "version_minor": 0
      },
      "text/plain": [
       "adapter_model.safetensors:   0%|          | 0.00/9.51M [00:00<?, ?B/s]"
      ]
     },
     "metadata": {},
     "output_type": "display_data"
    },
    {
     "data": {
      "text/plain": [
       "CommitInfo(commit_url='https://huggingface.co/codinglabsong/roberta-base-with-tweet-eval-emoji-full/commit/76696d41cb9ae04b75b3324ac2c921f5b055ae1c', commit_message='codinglabsong/roberta-base-tweet-emoji-lora', commit_description='', oid='76696d41cb9ae04b75b3324ac2c921f5b055ae1c', pr_url=None, repo_url=RepoUrl('https://huggingface.co/codinglabsong/roberta-base-with-tweet-eval-emoji-full', endpoint='https://huggingface.co', repo_type='model', repo_id='codinglabsong/roberta-base-with-tweet-eval-emoji-full'), pr_revision=None, pr_num=None)"
      ]
     },
     "execution_count": 153,
     "metadata": {},
     "output_type": "execute_result"
    }
   ],
   "source": [
    "repo_id = \"codinglabsong/roberta-base-tweet-emoji-lora\"\n",
    "\n",
    "trainer.create_model_card(   # adds automatic metrics, dataset info, tags\n",
    "    model_name=repo_id.split(\"/\")[-1],\n",
    "    language=\"en\",\n",
    "    license=\"apache-2.0\",\n",
    "    tags=[\"twitter\", \"emoji\", \"lora\", \"roberta-base\"],\n",
    ")\n",
    "\n",
    "trainer.push_to_hub(\n",
    "    repo_id,                        # full path, e.g. \"your-hf-username/…\"\n",
    "    finetuned_from=\"roberta-base\",\n",
    "    tasks=\"text-classification\",\n",
    "    dataset=\"tweet_eval/emoji\",\n",
    ")"
   ]
  }
 ],
 "metadata": {
  "kaggle": {
   "accelerator": "none",
   "dataSources": [],
   "isGpuEnabled": false,
   "isInternetEnabled": true,
   "language": "python",
   "sourceType": "notebook"
  },
  "kernelspec": {
   "display_name": "twitter-emoji",
   "language": "python",
   "name": "python3"
  },
  "language_info": {
   "codemirror_mode": {
    "name": "ipython",
    "version": 3
   },
   "file_extension": ".py",
   "mimetype": "text/x-python",
   "name": "python",
   "nbconvert_exporter": "python",
   "pygments_lexer": "ipython3",
   "version": "3.10.18"
  }
 },
 "nbformat": 4,
 "nbformat_minor": 4
}
