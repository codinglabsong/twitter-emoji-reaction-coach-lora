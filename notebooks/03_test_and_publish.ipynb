{
 "cells": [
  {
   "cell_type": "markdown",
   "metadata": {},
   "source": [
    "# Sample Output from the Model and Publish on Hugging Face"
   ]
  },
  {
   "cell_type": "markdown",
   "metadata": {},
   "source": [
    "## Setup & Imports"
   ]
  },
  {
   "cell_type": "code",
   "execution_count": null,
   "metadata": {},
   "outputs": [],
   "source": [
    "import os\n",
    "from dotenv import load_dotenv\n",
    "from huggingface_hub import login\n",
    "from transformers import pipeline\n",
    "from peft import PeftConfig, PeftModel\n",
    "from twitter_emoji_reaction_lora.model import build_inference_peft_model"
   ]
  },
  {
   "cell_type": "code",
   "execution_count": null,
   "metadata": {},
   "outputs": [],
   "source": [
    "load_dotenv()\n",
    "\n",
    "login(token=os.getenv(\"HUGGINGFACE_TOKEN\"))"
   ]
  },
  {
   "cell_type": "code",
   "execution_count": null,
   "metadata": {
    "execution": {
     "iopub.execute_input": "2025-06-23T18:49:58.952218Z",
     "iopub.status.busy": "2025-06-23T18:49:58.951421Z",
     "iopub.status.idle": "2025-06-23T18:49:59.291149Z",
     "shell.execute_reply": "2025-06-23T18:49:59.290331Z",
     "shell.execute_reply.started": "2025-06-23T18:49:58.952186Z"
    },
    "trusted": true
   },
   "outputs": [
    {
     "name": "stderr",
     "output_type": "stream",
     "text": [
      "Some weights of RobertaForSequenceClassification were not initialized from the model checkpoint at FacebookAI/roberta-base and are newly initialized: ['classifier.dense.bias', 'classifier.dense.weight', 'classifier.out_proj.bias', 'classifier.out_proj.weight']\n",
      "You should probably TRAIN this model on a down-stream task to be able to use it for predictions and inference.\n"
     ]
    }
   ],
   "source": [
    "model = build_base_model()\n",
    "model_id = \"roberta-base-with-tweet-eval-emoji\" #path to model in local\n",
    "build_inference_peft_model(model, model_id)"
   ]
  },
  {
   "cell_type": "code",
   "execution_count": 142,
   "metadata": {
    "execution": {
     "iopub.execute_input": "2025-06-23T18:50:09.085189Z",
     "iopub.status.busy": "2025-06-23T18:50:09.084867Z",
     "iopub.status.idle": "2025-06-23T18:50:09.089707Z",
     "shell.execute_reply": "2025-06-23T18:50:09.089109Z",
     "shell.execute_reply.started": "2025-06-23T18:50:09.085168Z"
    },
    "trusted": true
   },
   "outputs": [],
   "source": [
    "id2label = {\n",
    "    0: \"❤\", 1: \"😍\", 2: \"😂\", 3: \"💕\", 4: \"🔥\",\n",
    "    5: \"😊\", 6: \"😎\", 7: \"✨\", 8: \"💙\", 9: \"😘\",\n",
    "    10: \"📷\", 11: \"🇺🇸\", 12: \"☀\", 13: \"💜\", 14: \"😉\",\n",
    "    15: \"💯\", 16: \"😁\", 17: \"🎄\", 18: \"📸\", 19: \"😜\"\n",
    "}"
   ]
  },
  {
   "cell_type": "code",
   "execution_count": null,
   "metadata": {
    "execution": {
     "iopub.execute_input": "2025-06-23T18:51:57.429023Z",
     "iopub.status.busy": "2025-06-23T18:51:57.428491Z",
     "iopub.status.idle": "2025-06-23T18:51:57.453789Z",
     "shell.execute_reply": "2025-06-23T18:51:57.453095Z",
     "shell.execute_reply.started": "2025-06-23T18:51:57.428999Z"
    },
    "trusted": true
   },
   "outputs": [
    {
     "name": "stderr",
     "output_type": "stream",
     "text": [
      "Device set to use cuda:0\n"
     ]
    },
    {
     "name": "stdout",
     "output_type": "stream",
     "text": [
      "☀ 💙 😎\n"
     ]
    }
   ],
   "source": [
    "pipe = pipeline(\n",
    "    task=\"text-classification\",\n",
    "    model=model,\n",
    "    tokenizer=tok,\n",
    "    return_all_scores=True,          # return all 20 logits\n",
    "    function_to_apply=\"softmax\"      # turn logits -> probabilities\n",
    ")\n",
    "\n",
    "def emojify(text, k=3):\n",
    "    probs = pipe(text)[0]\n",
    "    top = sorted(probs, key=lambda x: x[\"score\"], reverse=True)[:k]\n",
    "    return \" \".join(id2label[int(d[\"label\"].split(\"_\")[-1])] for d in top)\n",
    "\n",
    "\n",
    "print(emojify(\"Sunny day\"))"
   ]
  },
  {
   "cell_type": "markdown",
   "metadata": {},
   "source": [
    "## Push to Huggingface\n",
    "\n",
    "Uncomment to use code"
   ]
  },
  {
   "cell_type": "code",
   "execution_count": 1,
   "metadata": {
    "execution": {
     "iopub.execute_input": "2025-06-23T19:17:03.119369Z",
     "iopub.status.busy": "2025-06-23T19:17:03.118799Z",
     "iopub.status.idle": "2025-06-23T19:17:06.647577Z",
     "shell.execute_reply": "2025-06-23T19:17:06.646984Z",
     "shell.execute_reply.started": "2025-06-23T19:17:03.119343Z"
    },
    "trusted": true
   },
   "outputs": [],
   "source": [
    "# repo_id = \"your_username/roberta-base-tweet-emoji-lora\"\n",
    "\n",
    "# trainer.create_model_card(\n",
    "#     model_name=repo_id.split(\"/\")[-1],\n",
    "#     language=\"en\",\n",
    "#     license=\"apache-2.0\",\n",
    "#     tags=[\"twitter\", \"emoji\", \"lora\", \"roberta-base\"],\n",
    "# )\n",
    "\n",
    "# trainer.push_to_hub(\n",
    "#     repo_id,\n",
    "#     finetuned_from=\"roberta-base\",\n",
    "#     tasks=\"text-classification\",\n",
    "#     dataset=\"tweet_eval/emoji\",\n",
    "# )"
   ]
  }
 ],
 "metadata": {
  "kaggle": {
   "accelerator": "none",
   "dataSources": [],
   "isGpuEnabled": false,
   "isInternetEnabled": true,
   "language": "python",
   "sourceType": "notebook"
  },
  "kernelspec": {
   "display_name": "twitter-emoji",
   "language": "python",
   "name": "python3"
  },
  "language_info": {
   "codemirror_mode": {
    "name": "ipython",
    "version": 3
   },
   "file_extension": ".py",
   "mimetype": "text/x-python",
   "name": "python",
   "nbconvert_exporter": "python",
   "pygments_lexer": "ipython3",
   "version": "3.10.18"
  }
 },
 "nbformat": 4,
 "nbformat_minor": 4
}
